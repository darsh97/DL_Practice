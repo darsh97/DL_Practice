{
    "cells": [
        {
            "cell_type": "code",
            "execution_count": 80,
            "source": [
                "import tensorflow as tf\n",
                "from tensorflow import keras\n",
                "import numpy as np\n",
                "from itertools import islice\n"
            ],
            "outputs": [],
            "metadata": {}
        },
        {
            "cell_type": "code",
            "execution_count": 81,
            "source": [
                "(x_train, y_train), (x_test, y_test) = keras.datasets.mnist.load_data()\n"
            ],
            "outputs": [],
            "metadata": {}
        },
        {
            "cell_type": "code",
            "execution_count": 82,
            "source": [
                "x_train_flatten = x_train.reshape(len(x_train), 28 * 28) / 255\n",
                "x_test_flatten = x_test.reshape(len(x_test), 28 * 28) / 255\n"
            ],
            "outputs": [],
            "metadata": {}
        },
        {
            "cell_type": "code",
            "execution_count": 83,
            "source": [
                "model = keras.models.Sequential([\n",
                "    keras.layers.Dense(100, input_shape=(784,), activation='relu'),\n",
                "    keras.layers.Dense(10, activation='sigmoid')\n",
                "])\n",
                "\n",
                "model.compile(\n",
                "    loss = 'sparse_categorical_crossentropy',\n",
                "    optimizer = 'adam',\n",
                "    metrics = ['accuracy']\n",
                ")"
            ],
            "outputs": [],
            "metadata": {}
        },
        {
            "cell_type": "code",
            "execution_count": 84,
            "source": [
                "model.fit(x_train_flatten, y_train, epochs=5)\n"
            ],
            "outputs": [
                {
                    "output_type": "stream",
                    "name": "stdout",
                    "text": [
                        "Epoch 1/5\n",
                        "1875/1875 [==============================] - 8s 4ms/step - loss: 0.2707 - accuracy: 0.9244\n",
                        "Epoch 2/5\n",
                        "1875/1875 [==============================] - 9s 5ms/step - loss: 0.1226 - accuracy: 0.9640\n",
                        "Epoch 3/5\n",
                        "1875/1875 [==============================] - 6s 3ms/step - loss: 0.0872 - accuracy: 0.9735\n",
                        "Epoch 4/5\n",
                        "1875/1875 [==============================] - 8s 4ms/step - loss: 0.0647 - accuracy: 0.9800\n",
                        "Epoch 5/5\n",
                        "1875/1875 [==============================] - 7s 4ms/step - loss: 0.0510 - accuracy: 0.9842\n"
                    ]
                },
                {
                    "output_type": "execute_result",
                    "data": {
                        "text/plain": [
                            "<tensorflow.python.keras.callbacks.History at 0x7f2bd05adb20>"
                        ]
                    },
                    "metadata": {},
                    "execution_count": 84
                }
            ],
            "metadata": {}
        },
        {
            "cell_type": "code",
            "execution_count": 90,
            "source": [
                "prediction = map(np.argmax, model.predict(x_test_flatten))\n",
                "\n",
                "for k, v in zip(islice(prediction, 20), islice(y_test, 20)):\n",
                "    print(f\"actual_digit: {v}, predicted_value: {k}\")\n"
            ],
            "outputs": [
                {
                    "output_type": "stream",
                    "name": "stdout",
                    "text": [
                        "actual_digit: 7, predicted_value: 7\n",
                        "actual_digit: 2, predicted_value: 2\n",
                        "actual_digit: 1, predicted_value: 1\n",
                        "actual_digit: 0, predicted_value: 0\n",
                        "actual_digit: 4, predicted_value: 4\n",
                        "actual_digit: 1, predicted_value: 1\n",
                        "actual_digit: 4, predicted_value: 4\n",
                        "actual_digit: 9, predicted_value: 9\n",
                        "actual_digit: 5, predicted_value: 5\n",
                        "actual_digit: 9, predicted_value: 9\n",
                        "actual_digit: 0, predicted_value: 0\n",
                        "actual_digit: 6, predicted_value: 6\n",
                        "actual_digit: 9, predicted_value: 9\n",
                        "actual_digit: 0, predicted_value: 0\n",
                        "actual_digit: 1, predicted_value: 1\n",
                        "actual_digit: 5, predicted_value: 5\n",
                        "actual_digit: 9, predicted_value: 9\n",
                        "actual_digit: 7, predicted_value: 7\n",
                        "actual_digit: 3, predicted_value: 3\n",
                        "actual_digit: 4, predicted_value: 4\n"
                    ]
                }
            ],
            "metadata": {}
        }
    ],
    "metadata": {
        "orig_nbformat": 4,
        "language_info": {
            "name": "python",
            "version": "3.9.5",
            "mimetype": "text/x-python",
            "codemirror_mode": {
                "name": "ipython",
                "version": 3
            },
            "pygments_lexer": "ipython3",
            "nbconvert_exporter": "python",
            "file_extension": ".py"
        },
        "kernelspec": {
            "name": "python3",
            "display_name": "Python 3.9.5 64-bit"
        },
        "interpreter": {
            "hash": "916dbcbb3f70747c44a77c7bcd40155683ae19c65e1c03b4aa3499c5328201f1"
        }
    },
    "nbformat": 4,
    "nbformat_minor": 2
}