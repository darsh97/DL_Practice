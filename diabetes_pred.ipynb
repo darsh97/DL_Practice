{
    "cells": [
        {
            "cell_type": "code",
            "execution_count": 2,
            "source": [
                "import numpy as np\n",
                "import pandas as pd"
            ],
            "outputs": [],
            "metadata": {}
        },
        {
            "cell_type": "code",
            "execution_count": 3,
            "source": [
                "# load the dataset\n",
                "dataset = pd.read_csv('diabetes.csv')\n",
                "\n",
                "# X deonotes the feature\n",
                "X = dataset.iloc[:, : 8].values\n",
                "# Y denotes binary output\n",
                "Y = dataset.iloc[:, -1].values\n"
            ],
            "outputs": [],
            "metadata": {}
        },
        {
            "cell_type": "code",
            "execution_count": 4,
            "source": [
                "from sklearn.model_selection import train_test_split\n",
                "\n",
                "x_train, x_test, y_train, y_test = train_test_split(X, Y, test_size=0.1)\n"
            ],
            "outputs": [],
            "metadata": {}
        },
        {
            "cell_type": "code",
            "execution_count": 5,
            "source": [
                "from sklearn.preprocessing import StandardScaler\n",
                "\n",
                "scaler = StandardScaler()\n",
                "x_train = scaler.fit_transform(x_train)\n",
                "x_test = scaler.fit_transform(x_test)"
            ],
            "outputs": [],
            "metadata": {}
        },
        {
            "cell_type": "code",
            "execution_count": null,
            "source": [
                "from keras.models import Sequential\n",
                "from keras.layers import Dense\n",
                "from keras.layers import Dropout\n",
                "\n",
                "model = Sequential()\n",
                "\n",
                "model.add(Dense(6, input_dim = len(x_train[0]), activation='relu',))\n",
                "model.add(Dropout(0.2))\n",
                "\n",
                "model.add(Dense(6, input_dim = len(x_train[0]), activation='relu',))\n",
                "model.add(Dropout(0.2))\n",
                "\n",
                "# Output layer\n",
                "model.add(Dense(1, activation='sigmoid'))\n",
                "\n",
                "\n",
                "model.compile(optimizer='adam', loss='binary_crossentropy', metrics=['accuracy',])\n",
                "\n",
                "model.fit(x_train, y_train, epochs=1_000)"
            ],
            "outputs": [],
            "metadata": {}
        },
        {
            "cell_type": "code",
            "execution_count": 11,
            "source": [
                "model.evaluate(x_test, y_test)"
            ],
            "outputs": [
                {
                    "output_type": "stream",
                    "name": "stdout",
                    "text": [
                        "3/3 [==============================] - 0s 3ms/step - loss: 0.4438 - accuracy: 0.7662\n"
                    ]
                },
                {
                    "output_type": "execute_result",
                    "data": {
                        "text/plain": [
                            "[0.4437544047832489, 0.7662337422370911]"
                        ]
                    },
                    "metadata": {},
                    "execution_count": 11
                }
            ],
            "metadata": {}
        },
        {
            "cell_type": "code",
            "execution_count": null,
            "source": [
                "from keras.wrappers.scikit_learn import KerasClassifier\n",
                "from sklearn.model_selection import cross_val_score\n",
                "from keras.models import Sequential\n",
                "from keras.layers import Dense\n",
                "from keras.layers import Dropout\n",
                "\n",
                "def build_model():\n",
                "    model = Sequential()\n",
                "\n",
                "    model.add(Dense(6, input_dim = len(x_train[0]), activation='relu',))\n",
                "    model.add(Dropout(0.2))\n",
                "\n",
                "    model.add(Dense(6, input_dim = len(x_train[0]), activation='relu',))\n",
                "    model.add(Dropout(0.2))\n",
                "\n",
                "    # Output layer\n",
                "    model.add(Dense(1, activation='sigmoid'))\n",
                "\n",
                "\n",
                "    model.compile(optimizer='adam', loss='binary_crossentropy', metrics=['accuracy',])\n",
                "\n",
                "    return model\n",
                "\n",
                "\n",
                "model = KerasClassifier(build_fn=build_model, batch_size=2, epochs=100)\n",
                "accuracy = cross_val_score(estimator=model, X=x_train, y=y_train, cv=5, n_jobs=-1)\n",
                "\n",
                "mean, variance = accuracy.mean(), accuracy.std()\n",
                "\n",
                "print({\n",
                "    \"mean\": mean,\n",
                "    \"variance\": variance\n",
                "})"
            ],
            "outputs": [],
            "metadata": {}
        }
    ],
    "metadata": {
        "orig_nbformat": 4,
        "language_info": {
            "name": "python",
            "version": "3.9.5",
            "mimetype": "text/x-python",
            "codemirror_mode": {
                "name": "ipython",
                "version": 3
            },
            "pygments_lexer": "ipython3",
            "nbconvert_exporter": "python",
            "file_extension": ".py"
        },
        "kernelspec": {
            "name": "python3",
            "display_name": "Python 3.9.5 64-bit"
        },
        "interpreter": {
            "hash": "916dbcbb3f70747c44a77c7bcd40155683ae19c65e1c03b4aa3499c5328201f1"
        }
    },
    "nbformat": 4,
    "nbformat_minor": 2
}