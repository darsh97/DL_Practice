{
    "cells": [
        {
            "cell_type": "code",
            "execution_count": 52,
            "source": [
                "import numpy as np\n",
                "import pandas as pd"
            ],
            "outputs": [],
            "metadata": {}
        },
        {
            "cell_type": "code",
            "execution_count": 65,
            "source": [
                "# load the dataset\n",
                "dataset = pd.read_csv('diabetes.csv')\n",
                "\n",
                "# X deonotes the feature\n",
                "X = dataset.iloc[:, : 8].values\n",
                "# Y denotes binary output\n",
                "Y = dataset.iloc[:, -1].values\n"
            ],
            "outputs": [],
            "metadata": {}
        },
        {
            "cell_type": "code",
            "execution_count": 75,
            "source": [
                "from sklearn.model_selection import train_test_split\n",
                "\n",
                "x_train, x_test, y_train, y_test = train_test_split(X, Y, test_size=0.25)\n"
            ],
            "outputs": [],
            "metadata": {}
        },
        {
            "cell_type": "code",
            "execution_count": 87,
            "source": [
                "from sklearn.preprocessing import StandardScaler\n",
                "\n",
                "scaler = StandardScaler()\n",
                "x_train = scaler.fit_transform(x_train)\n",
                "x_test = scaler.fit_transform(x_test)\n",
                "\n",
                "print(x_test[0])\n"
            ],
            "outputs": [
                {
                    "output_type": "stream",
                    "name": "stdout",
                    "text": [
                        "[-0.83956933 -0.47702231 -1.01528751 -0.09504964 -0.65732419 -0.69206836\n",
                        " -0.85902621 -0.35982217]\n"
                    ]
                }
            ],
            "metadata": {}
        },
        {
            "cell_type": "code",
            "execution_count": null,
            "source": [
                "from keras.models import Sequential\n",
                "from keras.layers import Dense\n",
                "from keras.layers import Dropout\n",
                "\n",
                "model = Sequential()\n",
                "\n",
                "model.add(Dense(6, input_dim = len(x_train[0]), activation='relu',))\n",
                "model.add(Dropout(0.2))\n",
                "\n",
                "model.add(Dense(6, input_dim = len(x_train[0]), activation='relu',))\n",
                "model.add(Dropout(0.2))\n",
                "\n",
                "# Output layer\n",
                "model.add(Dense(1, activation='sigmoid'))\n",
                "\n",
                "\n",
                "model.compile(optimizer='adam', loss='binary_crossentropy', metrics=['accuracy',])\n",
                "\n",
                "model.fit(x_train, y_train, epochs=1_000)\n",
                "\n"
            ],
            "outputs": [],
            "metadata": {}
        },
        {
            "cell_type": "code",
            "execution_count": 98,
            "source": [
                "model.evaluate(x_test, y_test)"
            ],
            "outputs": [
                {
                    "output_type": "stream",
                    "name": "stdout",
                    "text": [
                        "6/6 [==============================] - 1s 2ms/step - loss: 0.5015 - accuracy: 0.7500\n"
                    ]
                },
                {
                    "output_type": "execute_result",
                    "data": {
                        "text/plain": [
                            "[0.5015108585357666, 0.75]"
                        ]
                    },
                    "metadata": {},
                    "execution_count": 98
                }
            ],
            "metadata": {}
        }
    ],
    "metadata": {
        "orig_nbformat": 4,
        "language_info": {
            "name": "python",
            "version": "3.9.5",
            "mimetype": "text/x-python",
            "codemirror_mode": {
                "name": "ipython",
                "version": 3
            },
            "pygments_lexer": "ipython3",
            "nbconvert_exporter": "python",
            "file_extension": ".py"
        },
        "kernelspec": {
            "name": "python3",
            "display_name": "Python 3.9.5 64-bit"
        },
        "interpreter": {
            "hash": "916dbcbb3f70747c44a77c7bcd40155683ae19c65e1c03b4aa3499c5328201f1"
        }
    },
    "nbformat": 4,
    "nbformat_minor": 2
}