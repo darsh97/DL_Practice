{
    "cells": [
        {
            "cell_type": "code",
            "execution_count": 2,
            "source": [
                "# Solve XOR problem using feed forward neural network.\n",
                "# A simple problem to familiarize myself with keras and the overall thought process behing building a network."
            ],
            "outputs": [],
            "metadata": {}
        },
        {
            "cell_type": "code",
            "execution_count": null,
            "source": [
                "import numpy as np\n",
                "import keras"
            ],
            "outputs": [],
            "metadata": {}
        },
        {
            "cell_type": "code",
            "execution_count": 4,
            "source": [
                "INPUT_DATA = np.array(((0, 0), (0, 1), (1, 0), (1, 1)))\n",
                "OUTPUT_DATA = np.array(((0,), (1,), (1,), (0,)))"
            ],
            "outputs": [],
            "metadata": {}
        },
        {
            "cell_type": "code",
            "execution_count": 22,
            "source": [
                "# specify the model type, the number of inputs, the hidden layers and output layers.\n",
                "model = keras.models.Sequential()\n",
                "\n",
                "# our hidden layer\n",
                "model.add(keras.layers.Dense(32, activation='sigmoid', input_shape=(2,)))\n",
                "\n",
                "# our output layer\n",
                "model.add(keras.layers.Dense(1, activation='sigmoid'))\n",
                "\n",
                "# Specify the optmizer. \n",
                "model.compile(optimizer='adam', loss='binary_crossentropy', metrics=['accuracy'])\n",
                "\n",
                "model.summary()"
            ],
            "outputs": [
                {
                    "output_type": "stream",
                    "name": "stdout",
                    "text": [
                        "Model: \"sequential_2\"\n",
                        "_________________________________________________________________\n",
                        "Layer (type)                 Output Shape              Param #   \n",
                        "=================================================================\n",
                        "dense_4 (Dense)              (None, 32)                96        \n",
                        "_________________________________________________________________\n",
                        "dense_5 (Dense)              (None, 1)                 33        \n",
                        "=================================================================\n",
                        "Total params: 129\n",
                        "Trainable params: 129\n",
                        "Non-trainable params: 0\n",
                        "_________________________________________________________________\n"
                    ]
                }
            ],
            "metadata": {}
        },
        {
            "cell_type": "code",
            "execution_count": null,
            "source": [
                "# The structre of the neural net has been defined. \n",
                "# Now, fit the data, sepcify the batch size and the number of iteration/epochs.\n",
                "\n",
                "model.fit(x=INPUT_DATA, y=OUTPUT_DATA, batch_size=4, epochs=5000)"
            ],
            "outputs": [],
            "metadata": {}
        },
        {
            "cell_type": "code",
            "execution_count": 21,
            "source": [
                "prediction_result = dict(zip(map(tuple, INPUT_DATA), model.predict(INPUT_DATA)))\n",
                "print(prediction_result)"
            ],
            "outputs": [
                {
                    "output_type": "stream",
                    "name": "stdout",
                    "text": [
                        "{(0, 0): array([0.00164708], dtype=float32), (0, 1): array([0.99869835], dtype=float32), (1, 0): array([0.99830174], dtype=float32), (1, 1): array([0.0013552], dtype=float32)}\n"
                    ]
                }
            ],
            "metadata": {}
        }
    ],
    "metadata": {
        "orig_nbformat": 4,
        "language_info": {
            "name": "python",
            "version": "3.9.5",
            "mimetype": "text/x-python",
            "codemirror_mode": {
                "name": "ipython",
                "version": 3
            },
            "pygments_lexer": "ipython3",
            "nbconvert_exporter": "python",
            "file_extension": ".py"
        },
        "kernelspec": {
            "name": "python3",
            "display_name": "Python 3.9.5 64-bit"
        },
        "interpreter": {
            "hash": "916dbcbb3f70747c44a77c7bcd40155683ae19c65e1c03b4aa3499c5328201f1"
        }
    },
    "nbformat": 4,
    "nbformat_minor": 2
}